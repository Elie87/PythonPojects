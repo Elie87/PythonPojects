{
  "nbformat": 4,
  "nbformat_minor": 0,
  "metadata": {
    "colab": {
      "name": "Practice_3_TimeSeries.ipynb",
      "provenance": [],
      "collapsed_sections": [],
      "authorship_tag": "ABX9TyPXRj0W9L6iCuY0gUn15BGN",
      "include_colab_link": true
    },
    "kernelspec": {
      "name": "python3",
      "display_name": "Python 3"
    }
  },
  "cells": [
    {
      "cell_type": "markdown",
      "metadata": {
        "id": "view-in-github",
        "colab_type": "text"
      },
      "source": [
        "<a href=\"https://colab.research.google.com/github/Elie87/PythonPojects/blob/main/Practice_3_TimeSeries.ipynb\" target=\"_parent\"><img src=\"https://colab.research.google.com/assets/colab-badge.svg\" alt=\"Open In Colab\"/></a>"
      ]
    },
    {
      "cell_type": "code",
      "metadata": {
        "id": "iHDrcgPFd6jw",
        "colab": {
          "base_uri": "https://localhost:8080/"
        },
        "outputId": "eb94e9ca-3a21-4377-b9db-072734c9cc2a"
      },
      "source": [
        "import pandas as pd\n",
        "import numpy as np\n",
        "import matplotlib.pyplot as plt\n",
        "import seaborn as sns\n",
        "import warnings\n",
        "warnings.filterwarnings('ignore')\n",
        "from google.colab import drive\n",
        "drive.mount('/content/drive')\n",
        "\n",
        "pd.set_option('display.max_columns', 10)  # to visulazie all the colums from the describe function\n"
      ],
      "execution_count": null,
      "outputs": [
        {
          "output_type": "stream",
          "text": [
            "Mounted at /content/drive\n"
          ],
          "name": "stdout"
        }
      ]
    },
    {
      "cell_type": "markdown",
      "metadata": {
        "id": "BkHRRhL_k0QY"
      },
      "source": [
        "### Section 1. Exploratory Data Analysis\n",
        "\n",
        "* 1.1: Data Loading and Understanding \n",
        "* 1.2: Data Cleaning \n",
        "* 1.3: Data Visualization"
      ]
    },
    {
      "cell_type": "code",
      "metadata": {
        "id": "yGxlzfjrlAD1",
        "colab": {
          "base_uri": "https://localhost:8080/",
          "height": 204
        },
        "outputId": "9cf759ef-7494-4b7a-c19d-21fda58b9547"
      },
      "source": [
        "data=pd.read_csv('/content/drive/My Drive/household_power_consumption.txt',delimiter=';',low_memory=False)\n",
        "data.head()"
      ],
      "execution_count": null,
      "outputs": [
        {
          "output_type": "execute_result",
          "data": {
            "text/html": [
              "<div>\n",
              "<style scoped>\n",
              "    .dataframe tbody tr th:only-of-type {\n",
              "        vertical-align: middle;\n",
              "    }\n",
              "\n",
              "    .dataframe tbody tr th {\n",
              "        vertical-align: top;\n",
              "    }\n",
              "\n",
              "    .dataframe thead th {\n",
              "        text-align: right;\n",
              "    }\n",
              "</style>\n",
              "<table border=\"1\" class=\"dataframe\">\n",
              "  <thead>\n",
              "    <tr style=\"text-align: right;\">\n",
              "      <th></th>\n",
              "      <th>Date</th>\n",
              "      <th>Time</th>\n",
              "      <th>Global_active_power</th>\n",
              "      <th>Global_reactive_power</th>\n",
              "      <th>Voltage</th>\n",
              "      <th>Global_intensity</th>\n",
              "      <th>Sub_metering_1</th>\n",
              "      <th>Sub_metering_2</th>\n",
              "      <th>Sub_metering_3</th>\n",
              "    </tr>\n",
              "  </thead>\n",
              "  <tbody>\n",
              "    <tr>\n",
              "      <th>0</th>\n",
              "      <td>16/12/2006</td>\n",
              "      <td>17:24:00</td>\n",
              "      <td>4.216</td>\n",
              "      <td>0.418</td>\n",
              "      <td>234.840</td>\n",
              "      <td>18.400</td>\n",
              "      <td>0.000</td>\n",
              "      <td>1.000</td>\n",
              "      <td>17.0</td>\n",
              "    </tr>\n",
              "    <tr>\n",
              "      <th>1</th>\n",
              "      <td>16/12/2006</td>\n",
              "      <td>17:25:00</td>\n",
              "      <td>5.360</td>\n",
              "      <td>0.436</td>\n",
              "      <td>233.630</td>\n",
              "      <td>23.000</td>\n",
              "      <td>0.000</td>\n",
              "      <td>1.000</td>\n",
              "      <td>16.0</td>\n",
              "    </tr>\n",
              "    <tr>\n",
              "      <th>2</th>\n",
              "      <td>16/12/2006</td>\n",
              "      <td>17:26:00</td>\n",
              "      <td>5.374</td>\n",
              "      <td>0.498</td>\n",
              "      <td>233.290</td>\n",
              "      <td>23.000</td>\n",
              "      <td>0.000</td>\n",
              "      <td>2.000</td>\n",
              "      <td>17.0</td>\n",
              "    </tr>\n",
              "    <tr>\n",
              "      <th>3</th>\n",
              "      <td>16/12/2006</td>\n",
              "      <td>17:27:00</td>\n",
              "      <td>5.388</td>\n",
              "      <td>0.502</td>\n",
              "      <td>233.740</td>\n",
              "      <td>23.000</td>\n",
              "      <td>0.000</td>\n",
              "      <td>1.000</td>\n",
              "      <td>17.0</td>\n",
              "    </tr>\n",
              "    <tr>\n",
              "      <th>4</th>\n",
              "      <td>16/12/2006</td>\n",
              "      <td>17:28:00</td>\n",
              "      <td>3.666</td>\n",
              "      <td>0.528</td>\n",
              "      <td>235.680</td>\n",
              "      <td>15.800</td>\n",
              "      <td>0.000</td>\n",
              "      <td>1.000</td>\n",
              "      <td>17.0</td>\n",
              "    </tr>\n",
              "  </tbody>\n",
              "</table>\n",
              "</div>"
            ],
            "text/plain": [
              "         Date      Time Global_active_power Global_reactive_power  Voltage  \\\n",
              "0  16/12/2006  17:24:00               4.216                 0.418  234.840   \n",
              "1  16/12/2006  17:25:00               5.360                 0.436  233.630   \n",
              "2  16/12/2006  17:26:00               5.374                 0.498  233.290   \n",
              "3  16/12/2006  17:27:00               5.388                 0.502  233.740   \n",
              "4  16/12/2006  17:28:00               3.666                 0.528  235.680   \n",
              "\n",
              "  Global_intensity Sub_metering_1 Sub_metering_2  Sub_metering_3  \n",
              "0           18.400          0.000          1.000            17.0  \n",
              "1           23.000          0.000          1.000            16.0  \n",
              "2           23.000          0.000          2.000            17.0  \n",
              "3           23.000          0.000          1.000            17.0  \n",
              "4           15.800          0.000          1.000            17.0  "
            ]
          },
          "metadata": {
            "tags": []
          },
          "execution_count": 2
        }
      ]
    },
    {
      "cell_type": "code",
      "metadata": {
        "id": "Wp6WiTYLqNCd",
        "colab": {
          "base_uri": "https://localhost:8080/"
        },
        "outputId": "b7c742e1-4523-4e40-9d54-8668ee5c5cfd"
      },
      "source": [
        "print(data.info())\n",
        "print(\"data.dtypes result is :\")\n",
        "print(data.dtypes)\n",
        "print(\"description:\")\n",
        "print(data.describe(include=float))\n",
        "print(data.describe(include=object))\n",
        "print(\"the data shape is %s\" %(str(data.shape)))"
      ],
      "execution_count": null,
      "outputs": [
        {
          "output_type": "stream",
          "text": [
            "<class 'pandas.core.frame.DataFrame'>\n",
            "RangeIndex: 2075259 entries, 0 to 2075258\n",
            "Data columns (total 9 columns):\n",
            " #   Column                 Dtype  \n",
            "---  ------                 -----  \n",
            " 0   Date                   object \n",
            " 1   Time                   object \n",
            " 2   Global_active_power    object \n",
            " 3   Global_reactive_power  object \n",
            " 4   Voltage                object \n",
            " 5   Global_intensity       object \n",
            " 6   Sub_metering_1         object \n",
            " 7   Sub_metering_2         object \n",
            " 8   Sub_metering_3         float64\n",
            "dtypes: float64(1), object(8)\n",
            "memory usage: 142.5+ MB\n",
            "None\n",
            "data.dtypes result is :\n",
            "Date                      object\n",
            "Time                      object\n",
            "Global_active_power       object\n",
            "Global_reactive_power     object\n",
            "Voltage                   object\n",
            "Global_intensity          object\n",
            "Sub_metering_1            object\n",
            "Sub_metering_2            object\n",
            "Sub_metering_3           float64\n",
            "dtype: object\n",
            "description:\n",
            "       Sub_metering_3\n",
            "count    2.049280e+06\n",
            "mean     6.458447e+00\n",
            "std      8.437154e+00\n",
            "min      0.000000e+00\n",
            "25%      0.000000e+00\n",
            "50%      1.000000e+00\n",
            "75%      1.700000e+01\n",
            "max      3.100000e+01\n",
            "            Date      Time Global_active_power Global_reactive_power  Voltage  \\\n",
            "count    2075259   2075259             2075259               2075259  2075259   \n",
            "unique      1442      1440                4187                   533     2838   \n",
            "top     2/4/2007  19:54:00                   ?                 0.000        ?   \n",
            "freq        1440      1442               25979                481561    25979   \n",
            "\n",
            "       Global_intensity Sub_metering_1 Sub_metering_2  \n",
            "count           2075259        2075259        2075259  \n",
            "unique              222             89             82  \n",
            "top               1.000          0.000          0.000  \n",
            "freq             172785        1880175        1436830  \n",
            "the data shape is (2075259, 9)\n"
          ],
          "name": "stdout"
        }
      ]
    },
    {
      "cell_type": "markdown",
      "metadata": {
        "id": "XVhrKwKzthpb"
      },
      "source": [
        "We can make use of the date and time columns to easily search through our data. We will turn the date and time to indicies to easily navigate!"
      ]
    },
    {
      "cell_type": "code",
      "metadata": {
        "id": "wZwqLajOtJyc",
        "colab": {
          "base_uri": "https://localhost:8080/",
          "height": 425
        },
        "outputId": "d6bb9018-43a3-479e-f9cd-2a0d4d75e16f"
      },
      "source": [
        "data=pd.read_csv('/content/drive/My Drive/household_power_consumption.txt',infer_datetime_format=True,parse_dates={'datetime':[0,1]},index_col=['datetime'] ,delimiter=';',low_memory=False)\n",
        "data.head()\n",
        "#infer_datae_time=True, Pandas deduces the format of your datetime from the first element(s)\n",
        "#parse_dates={'datetime':[0,1]}  create a new column of type date called 'datetime' from combining columns 0 and 1\n",
        "#index_col=['datetime']:  pandas will use the colum ['datetime'] to be the index"
      ],
      "execution_count": null,
      "outputs": [
        {
          "output_type": "execute_result",
          "data": {
            "text/html": [
              "<div>\n",
              "<style scoped>\n",
              "    .dataframe tbody tr th:only-of-type {\n",
              "        vertical-align: middle;\n",
              "    }\n",
              "\n",
              "    .dataframe tbody tr th {\n",
              "        vertical-align: top;\n",
              "    }\n",
              "\n",
              "    .dataframe thead th {\n",
              "        text-align: right;\n",
              "    }\n",
              "</style>\n",
              "<table border=\"1\" class=\"dataframe\">\n",
              "  <thead>\n",
              "    <tr style=\"text-align: right;\">\n",
              "      <th></th>\n",
              "      <th>Global_active_power</th>\n",
              "      <th>Global_reactive_power</th>\n",
              "      <th>Voltage</th>\n",
              "      <th>Global_intensity</th>\n",
              "      <th>Sub_metering_1</th>\n",
              "      <th>Sub_metering_2</th>\n",
              "      <th>Sub_metering_3</th>\n",
              "    </tr>\n",
              "    <tr>\n",
              "      <th>datetime</th>\n",
              "      <th></th>\n",
              "      <th></th>\n",
              "      <th></th>\n",
              "      <th></th>\n",
              "      <th></th>\n",
              "      <th></th>\n",
              "      <th></th>\n",
              "    </tr>\n",
              "  </thead>\n",
              "  <tbody>\n",
              "    <tr>\n",
              "      <th>2006-12-16 17:24:00</th>\n",
              "      <td>4.216</td>\n",
              "      <td>0.418</td>\n",
              "      <td>234.840</td>\n",
              "      <td>18.400</td>\n",
              "      <td>0.000</td>\n",
              "      <td>1.000</td>\n",
              "      <td>17.0</td>\n",
              "    </tr>\n",
              "    <tr>\n",
              "      <th>2006-12-16 17:25:00</th>\n",
              "      <td>5.360</td>\n",
              "      <td>0.436</td>\n",
              "      <td>233.630</td>\n",
              "      <td>23.000</td>\n",
              "      <td>0.000</td>\n",
              "      <td>1.000</td>\n",
              "      <td>16.0</td>\n",
              "    </tr>\n",
              "    <tr>\n",
              "      <th>2006-12-16 17:26:00</th>\n",
              "      <td>5.374</td>\n",
              "      <td>0.498</td>\n",
              "      <td>233.290</td>\n",
              "      <td>23.000</td>\n",
              "      <td>0.000</td>\n",
              "      <td>2.000</td>\n",
              "      <td>17.0</td>\n",
              "    </tr>\n",
              "    <tr>\n",
              "      <th>2006-12-16 17:27:00</th>\n",
              "      <td>5.388</td>\n",
              "      <td>0.502</td>\n",
              "      <td>233.740</td>\n",
              "      <td>23.000</td>\n",
              "      <td>0.000</td>\n",
              "      <td>1.000</td>\n",
              "      <td>17.0</td>\n",
              "    </tr>\n",
              "    <tr>\n",
              "      <th>2006-12-16 17:28:00</th>\n",
              "      <td>3.666</td>\n",
              "      <td>0.528</td>\n",
              "      <td>235.680</td>\n",
              "      <td>15.800</td>\n",
              "      <td>0.000</td>\n",
              "      <td>1.000</td>\n",
              "      <td>17.0</td>\n",
              "    </tr>\n",
              "  </tbody>\n",
              "</table>\n",
              "</div>"
            ],
            "text/plain": [
              "                    Global_active_power Global_reactive_power  Voltage  \\\n",
              "datetime                                                                 \n",
              "2006-12-16 17:24:00               4.216                 0.418  234.840   \n",
              "2006-12-16 17:25:00               5.360                 0.436  233.630   \n",
              "2006-12-16 17:26:00               5.374                 0.498  233.290   \n",
              "2006-12-16 17:27:00               5.388                 0.502  233.740   \n",
              "2006-12-16 17:28:00               3.666                 0.528  235.680   \n",
              "\n",
              "                    Global_intensity Sub_metering_1 Sub_metering_2  \\\n",
              "datetime                                                             \n",
              "2006-12-16 17:24:00           18.400          0.000          1.000   \n",
              "2006-12-16 17:25:00           23.000          0.000          1.000   \n",
              "2006-12-16 17:26:00           23.000          0.000          2.000   \n",
              "2006-12-16 17:27:00           23.000          0.000          1.000   \n",
              "2006-12-16 17:28:00           15.800          0.000          1.000   \n",
              "\n",
              "                     Sub_metering_3  \n",
              "datetime                             \n",
              "2006-12-16 17:24:00            17.0  \n",
              "2006-12-16 17:25:00            16.0  \n",
              "2006-12-16 17:26:00            17.0  \n",
              "2006-12-16 17:27:00            17.0  \n",
              "2006-12-16 17:28:00            17.0  "
            ]
          },
          "metadata": {
            "tags": []
          },
          "execution_count": 4
        }
      ]
    },
    {
      "cell_type": "code",
      "metadata": {
        "id": "NRrTjinLwNck",
        "colab": {
          "base_uri": "https://localhost:8080/"
        },
        "outputId": "5bd86e94-fb4d-4d05-e151-34f62cdc2a88"
      },
      "source": [
        "print(data.info())\n",
        "print(data.describe(include='all'))\n",
        "print(data.shape)"
      ],
      "execution_count": null,
      "outputs": [
        {
          "output_type": "stream",
          "text": [
            "<class 'pandas.core.frame.DataFrame'>\n",
            "DatetimeIndex: 2075259 entries, 2006-12-16 17:24:00 to 2010-11-26 21:02:00\n",
            "Data columns (total 7 columns):\n",
            " #   Column                 Dtype  \n",
            "---  ------                 -----  \n",
            " 0   Global_active_power    object \n",
            " 1   Global_reactive_power  object \n",
            " 2   Voltage                object \n",
            " 3   Global_intensity       object \n",
            " 4   Sub_metering_1         object \n",
            " 5   Sub_metering_2         object \n",
            " 6   Sub_metering_3         float64\n",
            "dtypes: float64(1), object(6)\n",
            "memory usage: 126.7+ MB\n",
            "None\n",
            "       Global_active_power Global_reactive_power  Voltage Global_intensity  \\\n",
            "count              2075259               2075259  2075259          2075259   \n",
            "unique                4187                   533     2838              222   \n",
            "top                      ?                 0.000        ?            1.000   \n",
            "freq                 25979                481561    25979           172785   \n",
            "mean                   NaN                   NaN      NaN              NaN   \n",
            "std                    NaN                   NaN      NaN              NaN   \n",
            "min                    NaN                   NaN      NaN              NaN   \n",
            "25%                    NaN                   NaN      NaN              NaN   \n",
            "50%                    NaN                   NaN      NaN              NaN   \n",
            "75%                    NaN                   NaN      NaN              NaN   \n",
            "max                    NaN                   NaN      NaN              NaN   \n",
            "\n",
            "       Sub_metering_1 Sub_metering_2  Sub_metering_3  \n",
            "count         2075259        2075259    2.049280e+06  \n",
            "unique             89             82             NaN  \n",
            "top             0.000          0.000             NaN  \n",
            "freq          1880175        1436830             NaN  \n",
            "mean              NaN            NaN    6.458447e+00  \n",
            "std               NaN            NaN    8.437154e+00  \n",
            "min               NaN            NaN    0.000000e+00  \n",
            "25%               NaN            NaN    0.000000e+00  \n",
            "50%               NaN            NaN    1.000000e+00  \n",
            "75%               NaN            NaN    1.700000e+01  \n",
            "max               NaN            NaN    3.100000e+01  \n",
            "(2075259, 7)\n"
          ],
          "name": "stdout"
        }
      ]
    },
    {
      "cell_type": "markdown",
      "metadata": {
        "id": "7eRSlW4_yc9F"
      },
      "source": [
        "invesigate the \"?\" values\n",
        "we can easly searh the data using the datetime"
      ]
    },
    {
      "cell_type": "code",
      "metadata": {
        "id": "mtCczZWDyXXg",
        "colab": {
          "base_uri": "https://localhost:8080/",
          "height": 810
        },
        "outputId": "6755388a-634e-4f49-f94f-4eb03bce92cb"
      },
      "source": [
        "import datetime\n",
        "# search for April 29, 2007 using the datetime index on the dataframe\n",
        "#data.loc[datetime.date(year=2007,month=4,day=29)]  # ? is used to represent missing values\n",
        "\n",
        "# the previous line is not working with new verion of python\n",
        "data.loc['2007-4-29'] "
      ],
      "execution_count": null,
      "outputs": [
        {
          "output_type": "execute_result",
          "data": {
            "text/html": [
              "<div>\n",
              "<style scoped>\n",
              "    .dataframe tbody tr th:only-of-type {\n",
              "        vertical-align: middle;\n",
              "    }\n",
              "\n",
              "    .dataframe tbody tr th {\n",
              "        vertical-align: top;\n",
              "    }\n",
              "\n",
              "    .dataframe thead th {\n",
              "        text-align: right;\n",
              "    }\n",
              "</style>\n",
              "<table border=\"1\" class=\"dataframe\">\n",
              "  <thead>\n",
              "    <tr style=\"text-align: right;\">\n",
              "      <th></th>\n",
              "      <th>Global_active_power</th>\n",
              "      <th>Global_reactive_power</th>\n",
              "      <th>Voltage</th>\n",
              "      <th>Global_intensity</th>\n",
              "      <th>Sub_metering_1</th>\n",
              "      <th>Sub_metering_2</th>\n",
              "      <th>Sub_metering_3</th>\n",
              "    </tr>\n",
              "    <tr>\n",
              "      <th>datetime</th>\n",
              "      <th></th>\n",
              "      <th></th>\n",
              "      <th></th>\n",
              "      <th></th>\n",
              "      <th></th>\n",
              "      <th></th>\n",
              "      <th></th>\n",
              "    </tr>\n",
              "  </thead>\n",
              "  <tbody>\n",
              "    <tr>\n",
              "      <th>2007-04-29 00:00:00</th>\n",
              "      <td>?</td>\n",
              "      <td>?</td>\n",
              "      <td>?</td>\n",
              "      <td>?</td>\n",
              "      <td>?</td>\n",
              "      <td>?</td>\n",
              "      <td>NaN</td>\n",
              "    </tr>\n",
              "    <tr>\n",
              "      <th>2007-04-29 00:01:00</th>\n",
              "      <td>?</td>\n",
              "      <td>?</td>\n",
              "      <td>?</td>\n",
              "      <td>?</td>\n",
              "      <td>?</td>\n",
              "      <td>?</td>\n",
              "      <td>NaN</td>\n",
              "    </tr>\n",
              "    <tr>\n",
              "      <th>2007-04-29 00:02:00</th>\n",
              "      <td>?</td>\n",
              "      <td>?</td>\n",
              "      <td>?</td>\n",
              "      <td>?</td>\n",
              "      <td>?</td>\n",
              "      <td>?</td>\n",
              "      <td>NaN</td>\n",
              "    </tr>\n",
              "    <tr>\n",
              "      <th>2007-04-29 00:03:00</th>\n",
              "      <td>?</td>\n",
              "      <td>?</td>\n",
              "      <td>?</td>\n",
              "      <td>?</td>\n",
              "      <td>?</td>\n",
              "      <td>?</td>\n",
              "      <td>NaN</td>\n",
              "    </tr>\n",
              "    <tr>\n",
              "      <th>2007-04-29 00:04:00</th>\n",
              "      <td>?</td>\n",
              "      <td>?</td>\n",
              "      <td>?</td>\n",
              "      <td>?</td>\n",
              "      <td>?</td>\n",
              "      <td>?</td>\n",
              "      <td>NaN</td>\n",
              "    </tr>\n",
              "    <tr>\n",
              "      <th>...</th>\n",
              "      <td>...</td>\n",
              "      <td>...</td>\n",
              "      <td>...</td>\n",
              "      <td>...</td>\n",
              "      <td>...</td>\n",
              "      <td>...</td>\n",
              "      <td>...</td>\n",
              "    </tr>\n",
              "    <tr>\n",
              "      <th>2007-04-29 23:55:00</th>\n",
              "      <td>?</td>\n",
              "      <td>?</td>\n",
              "      <td>?</td>\n",
              "      <td>?</td>\n",
              "      <td>?</td>\n",
              "      <td>?</td>\n",
              "      <td>NaN</td>\n",
              "    </tr>\n",
              "    <tr>\n",
              "      <th>2007-04-29 23:56:00</th>\n",
              "      <td>?</td>\n",
              "      <td>?</td>\n",
              "      <td>?</td>\n",
              "      <td>?</td>\n",
              "      <td>?</td>\n",
              "      <td>?</td>\n",
              "      <td>NaN</td>\n",
              "    </tr>\n",
              "    <tr>\n",
              "      <th>2007-04-29 23:57:00</th>\n",
              "      <td>?</td>\n",
              "      <td>?</td>\n",
              "      <td>?</td>\n",
              "      <td>?</td>\n",
              "      <td>?</td>\n",
              "      <td>?</td>\n",
              "      <td>NaN</td>\n",
              "    </tr>\n",
              "    <tr>\n",
              "      <th>2007-04-29 23:58:00</th>\n",
              "      <td>?</td>\n",
              "      <td>?</td>\n",
              "      <td>?</td>\n",
              "      <td>?</td>\n",
              "      <td>?</td>\n",
              "      <td>?</td>\n",
              "      <td>NaN</td>\n",
              "    </tr>\n",
              "    <tr>\n",
              "      <th>2007-04-29 23:59:00</th>\n",
              "      <td>?</td>\n",
              "      <td>?</td>\n",
              "      <td>?</td>\n",
              "      <td>?</td>\n",
              "      <td>?</td>\n",
              "      <td>?</td>\n",
              "      <td>NaN</td>\n",
              "    </tr>\n",
              "  </tbody>\n",
              "</table>\n",
              "<p>1440 rows × 7 columns</p>\n",
              "</div>"
            ],
            "text/plain": [
              "                    Global_active_power Global_reactive_power Voltage  \\\n",
              "datetime                                                                \n",
              "2007-04-29 00:00:00                   ?                     ?       ?   \n",
              "2007-04-29 00:01:00                   ?                     ?       ?   \n",
              "2007-04-29 00:02:00                   ?                     ?       ?   \n",
              "2007-04-29 00:03:00                   ?                     ?       ?   \n",
              "2007-04-29 00:04:00                   ?                     ?       ?   \n",
              "...                                 ...                   ...     ...   \n",
              "2007-04-29 23:55:00                   ?                     ?       ?   \n",
              "2007-04-29 23:56:00                   ?                     ?       ?   \n",
              "2007-04-29 23:57:00                   ?                     ?       ?   \n",
              "2007-04-29 23:58:00                   ?                     ?       ?   \n",
              "2007-04-29 23:59:00                   ?                     ?       ?   \n",
              "\n",
              "                    Global_intensity Sub_metering_1 Sub_metering_2  \\\n",
              "datetime                                                             \n",
              "2007-04-29 00:00:00                ?              ?              ?   \n",
              "2007-04-29 00:01:00                ?              ?              ?   \n",
              "2007-04-29 00:02:00                ?              ?              ?   \n",
              "2007-04-29 00:03:00                ?              ?              ?   \n",
              "2007-04-29 00:04:00                ?              ?              ?   \n",
              "...                              ...            ...            ...   \n",
              "2007-04-29 23:55:00                ?              ?              ?   \n",
              "2007-04-29 23:56:00                ?              ?              ?   \n",
              "2007-04-29 23:57:00                ?              ?              ?   \n",
              "2007-04-29 23:58:00                ?              ?              ?   \n",
              "2007-04-29 23:59:00                ?              ?              ?   \n",
              "\n",
              "                     Sub_metering_3  \n",
              "datetime                             \n",
              "2007-04-29 00:00:00             NaN  \n",
              "2007-04-29 00:01:00             NaN  \n",
              "2007-04-29 00:02:00             NaN  \n",
              "2007-04-29 00:03:00             NaN  \n",
              "2007-04-29 00:04:00             NaN  \n",
              "...                             ...  \n",
              "2007-04-29 23:55:00             NaN  \n",
              "2007-04-29 23:56:00             NaN  \n",
              "2007-04-29 23:57:00             NaN  \n",
              "2007-04-29 23:58:00             NaN  \n",
              "2007-04-29 23:59:00             NaN  \n",
              "\n",
              "[1440 rows x 7 columns]"
            ]
          },
          "metadata": {
            "tags": []
          },
          "execution_count": 6
        }
      ]
    },
    {
      "cell_type": "markdown",
      "metadata": {
        "id": "Ixso5GWSz1eB"
      },
      "source": [
        "We must clean the data by finding the best solution for missing values"
      ]
    },
    {
      "cell_type": "code",
      "metadata": {
        "id": "pFRJDhdUz73U",
        "colab": {
          "base_uri": "https://localhost:8080/",
          "height": 810
        },
        "outputId": "6fcd26ae-a743-43ec-de18-81aca5e364d2"
      },
      "source": [
        "data.replace('?',np.nan,inplace=True)\n",
        "#data.loc[datetime.date(2007,4,29)]  # not wroking with new version of python\n",
        "data.loc['2007-4-29'] "
      ],
      "execution_count": null,
      "outputs": [
        {
          "output_type": "execute_result",
          "data": {
            "text/html": [
              "<div>\n",
              "<style scoped>\n",
              "    .dataframe tbody tr th:only-of-type {\n",
              "        vertical-align: middle;\n",
              "    }\n",
              "\n",
              "    .dataframe tbody tr th {\n",
              "        vertical-align: top;\n",
              "    }\n",
              "\n",
              "    .dataframe thead th {\n",
              "        text-align: right;\n",
              "    }\n",
              "</style>\n",
              "<table border=\"1\" class=\"dataframe\">\n",
              "  <thead>\n",
              "    <tr style=\"text-align: right;\">\n",
              "      <th></th>\n",
              "      <th>Global_active_power</th>\n",
              "      <th>Global_reactive_power</th>\n",
              "      <th>Voltage</th>\n",
              "      <th>Global_intensity</th>\n",
              "      <th>Sub_metering_1</th>\n",
              "      <th>Sub_metering_2</th>\n",
              "      <th>Sub_metering_3</th>\n",
              "    </tr>\n",
              "    <tr>\n",
              "      <th>datetime</th>\n",
              "      <th></th>\n",
              "      <th></th>\n",
              "      <th></th>\n",
              "      <th></th>\n",
              "      <th></th>\n",
              "      <th></th>\n",
              "      <th></th>\n",
              "    </tr>\n",
              "  </thead>\n",
              "  <tbody>\n",
              "    <tr>\n",
              "      <th>2007-04-29 00:00:00</th>\n",
              "      <td>NaN</td>\n",
              "      <td>NaN</td>\n",
              "      <td>NaN</td>\n",
              "      <td>NaN</td>\n",
              "      <td>NaN</td>\n",
              "      <td>NaN</td>\n",
              "      <td>NaN</td>\n",
              "    </tr>\n",
              "    <tr>\n",
              "      <th>2007-04-29 00:01:00</th>\n",
              "      <td>NaN</td>\n",
              "      <td>NaN</td>\n",
              "      <td>NaN</td>\n",
              "      <td>NaN</td>\n",
              "      <td>NaN</td>\n",
              "      <td>NaN</td>\n",
              "      <td>NaN</td>\n",
              "    </tr>\n",
              "    <tr>\n",
              "      <th>2007-04-29 00:02:00</th>\n",
              "      <td>NaN</td>\n",
              "      <td>NaN</td>\n",
              "      <td>NaN</td>\n",
              "      <td>NaN</td>\n",
              "      <td>NaN</td>\n",
              "      <td>NaN</td>\n",
              "      <td>NaN</td>\n",
              "    </tr>\n",
              "    <tr>\n",
              "      <th>2007-04-29 00:03:00</th>\n",
              "      <td>NaN</td>\n",
              "      <td>NaN</td>\n",
              "      <td>NaN</td>\n",
              "      <td>NaN</td>\n",
              "      <td>NaN</td>\n",
              "      <td>NaN</td>\n",
              "      <td>NaN</td>\n",
              "    </tr>\n",
              "    <tr>\n",
              "      <th>2007-04-29 00:04:00</th>\n",
              "      <td>NaN</td>\n",
              "      <td>NaN</td>\n",
              "      <td>NaN</td>\n",
              "      <td>NaN</td>\n",
              "      <td>NaN</td>\n",
              "      <td>NaN</td>\n",
              "      <td>NaN</td>\n",
              "    </tr>\n",
              "    <tr>\n",
              "      <th>...</th>\n",
              "      <td>...</td>\n",
              "      <td>...</td>\n",
              "      <td>...</td>\n",
              "      <td>...</td>\n",
              "      <td>...</td>\n",
              "      <td>...</td>\n",
              "      <td>...</td>\n",
              "    </tr>\n",
              "    <tr>\n",
              "      <th>2007-04-29 23:55:00</th>\n",
              "      <td>NaN</td>\n",
              "      <td>NaN</td>\n",
              "      <td>NaN</td>\n",
              "      <td>NaN</td>\n",
              "      <td>NaN</td>\n",
              "      <td>NaN</td>\n",
              "      <td>NaN</td>\n",
              "    </tr>\n",
              "    <tr>\n",
              "      <th>2007-04-29 23:56:00</th>\n",
              "      <td>NaN</td>\n",
              "      <td>NaN</td>\n",
              "      <td>NaN</td>\n",
              "      <td>NaN</td>\n",
              "      <td>NaN</td>\n",
              "      <td>NaN</td>\n",
              "      <td>NaN</td>\n",
              "    </tr>\n",
              "    <tr>\n",
              "      <th>2007-04-29 23:57:00</th>\n",
              "      <td>NaN</td>\n",
              "      <td>NaN</td>\n",
              "      <td>NaN</td>\n",
              "      <td>NaN</td>\n",
              "      <td>NaN</td>\n",
              "      <td>NaN</td>\n",
              "      <td>NaN</td>\n",
              "    </tr>\n",
              "    <tr>\n",
              "      <th>2007-04-29 23:58:00</th>\n",
              "      <td>NaN</td>\n",
              "      <td>NaN</td>\n",
              "      <td>NaN</td>\n",
              "      <td>NaN</td>\n",
              "      <td>NaN</td>\n",
              "      <td>NaN</td>\n",
              "      <td>NaN</td>\n",
              "    </tr>\n",
              "    <tr>\n",
              "      <th>2007-04-29 23:59:00</th>\n",
              "      <td>NaN</td>\n",
              "      <td>NaN</td>\n",
              "      <td>NaN</td>\n",
              "      <td>NaN</td>\n",
              "      <td>NaN</td>\n",
              "      <td>NaN</td>\n",
              "      <td>NaN</td>\n",
              "    </tr>\n",
              "  </tbody>\n",
              "</table>\n",
              "<p>1440 rows × 7 columns</p>\n",
              "</div>"
            ],
            "text/plain": [
              "                    Global_active_power Global_reactive_power Voltage  \\\n",
              "datetime                                                                \n",
              "2007-04-29 00:00:00                 NaN                   NaN     NaN   \n",
              "2007-04-29 00:01:00                 NaN                   NaN     NaN   \n",
              "2007-04-29 00:02:00                 NaN                   NaN     NaN   \n",
              "2007-04-29 00:03:00                 NaN                   NaN     NaN   \n",
              "2007-04-29 00:04:00                 NaN                   NaN     NaN   \n",
              "...                                 ...                   ...     ...   \n",
              "2007-04-29 23:55:00                 NaN                   NaN     NaN   \n",
              "2007-04-29 23:56:00                 NaN                   NaN     NaN   \n",
              "2007-04-29 23:57:00                 NaN                   NaN     NaN   \n",
              "2007-04-29 23:58:00                 NaN                   NaN     NaN   \n",
              "2007-04-29 23:59:00                 NaN                   NaN     NaN   \n",
              "\n",
              "                    Global_intensity Sub_metering_1 Sub_metering_2  \\\n",
              "datetime                                                             \n",
              "2007-04-29 00:00:00              NaN            NaN            NaN   \n",
              "2007-04-29 00:01:00              NaN            NaN            NaN   \n",
              "2007-04-29 00:02:00              NaN            NaN            NaN   \n",
              "2007-04-29 00:03:00              NaN            NaN            NaN   \n",
              "2007-04-29 00:04:00              NaN            NaN            NaN   \n",
              "...                              ...            ...            ...   \n",
              "2007-04-29 23:55:00              NaN            NaN            NaN   \n",
              "2007-04-29 23:56:00              NaN            NaN            NaN   \n",
              "2007-04-29 23:57:00              NaN            NaN            NaN   \n",
              "2007-04-29 23:58:00              NaN            NaN            NaN   \n",
              "2007-04-29 23:59:00              NaN            NaN            NaN   \n",
              "\n",
              "                     Sub_metering_3  \n",
              "datetime                             \n",
              "2007-04-29 00:00:00             NaN  \n",
              "2007-04-29 00:01:00             NaN  \n",
              "2007-04-29 00:02:00             NaN  \n",
              "2007-04-29 00:03:00             NaN  \n",
              "2007-04-29 00:04:00             NaN  \n",
              "...                             ...  \n",
              "2007-04-29 23:55:00             NaN  \n",
              "2007-04-29 23:56:00             NaN  \n",
              "2007-04-29 23:57:00             NaN  \n",
              "2007-04-29 23:58:00             NaN  \n",
              "2007-04-29 23:59:00             NaN  \n",
              "\n",
              "[1440 rows x 7 columns]"
            ]
          },
          "metadata": {
            "tags": []
          },
          "execution_count": 7
        }
      ]
    },
    {
      "cell_type": "code",
      "metadata": {
        "id": "wdFRPnPF0K3c",
        "colab": {
          "base_uri": "https://localhost:8080/"
        },
        "outputId": "46b26e54-faf0-47ff-94f8-efc8d48bc25a"
      },
      "source": [
        "print(data.isnull().sum())\n",
        "# we wont drop all rows that have missing values, becasue we will loose 25979 row\n",
        "#so we will replace the missing data with the mean\n",
        "# to do that we must change the type of data to float\n",
        "data=data.astype('float')\n",
        "print(data.info())\n",
        "data.fillna(data.mean(),axis=0,inplace=True)\n",
        "print(data.isnull().sum())"
      ],
      "execution_count": null,
      "outputs": [
        {
          "output_type": "stream",
          "text": [
            "Global_active_power      25979\n",
            "Global_reactive_power    25979\n",
            "Voltage                  25979\n",
            "Global_intensity         25979\n",
            "Sub_metering_1           25979\n",
            "Sub_metering_2           25979\n",
            "Sub_metering_3           25979\n",
            "dtype: int64\n",
            "<class 'pandas.core.frame.DataFrame'>\n",
            "DatetimeIndex: 2075259 entries, 2006-12-16 17:24:00 to 2010-11-26 21:02:00\n",
            "Data columns (total 7 columns):\n",
            " #   Column                 Dtype  \n",
            "---  ------                 -----  \n",
            " 0   Global_active_power    float64\n",
            " 1   Global_reactive_power  float64\n",
            " 2   Voltage                float64\n",
            " 3   Global_intensity       float64\n",
            " 4   Sub_metering_1         float64\n",
            " 5   Sub_metering_2         float64\n",
            " 6   Sub_metering_3         float64\n",
            "dtypes: float64(7)\n",
            "memory usage: 126.7 MB\n",
            "None\n",
            "Global_active_power      0\n",
            "Global_reactive_power    0\n",
            "Voltage                  0\n",
            "Global_intensity         0\n",
            "Sub_metering_1           0\n",
            "Sub_metering_2           0\n",
            "Sub_metering_3           0\n",
            "dtype: int64\n"
          ],
          "name": "stdout"
        }
      ]
    },
    {
      "cell_type": "code",
      "metadata": {
        "id": "uK5_KVik11VM",
        "colab": {
          "base_uri": "https://localhost:8080/"
        },
        "outputId": "65385087-8daa-4dae-cb8a-d6aed3022378"
      },
      "source": [
        "#lets make sure that the nan are replace by the right value\n",
        "print(data.info())\n",
        "print(data.describe())\n",
        "#print(data.loc[datetime.date(year=2007,month=4,day=29)])\n",
        "print(data.loc['2007-4-29'])"
      ],
      "execution_count": null,
      "outputs": [
        {
          "output_type": "stream",
          "text": [
            "<class 'pandas.core.frame.DataFrame'>\n",
            "DatetimeIndex: 2075259 entries, 2006-12-16 17:24:00 to 2010-11-26 21:02:00\n",
            "Data columns (total 7 columns):\n",
            " #   Column                 Dtype  \n",
            "---  ------                 -----  \n",
            " 0   Global_active_power    float64\n",
            " 1   Global_reactive_power  float64\n",
            " 2   Voltage                float64\n",
            " 3   Global_intensity       float64\n",
            " 4   Sub_metering_1         float64\n",
            " 5   Sub_metering_2         float64\n",
            " 6   Sub_metering_3         float64\n",
            "dtypes: float64(7)\n",
            "memory usage: 126.7 MB\n",
            "None\n",
            "       Global_active_power  Global_reactive_power       Voltage  \\\n",
            "count         2.075259e+06           2.075259e+06  2.075259e+06   \n",
            "mean          1.091615e+00           1.237145e-01  2.408399e+02   \n",
            "std           1.050655e+00           1.120142e-01  3.219643e+00   \n",
            "min           7.600000e-02           0.000000e+00  2.232000e+02   \n",
            "25%           3.100000e-01           4.800000e-02  2.390200e+02   \n",
            "50%           6.300000e-01           1.020000e-01  2.409600e+02   \n",
            "75%           1.520000e+00           1.920000e-01  2.428600e+02   \n",
            "max           1.112200e+01           1.390000e+00  2.541500e+02   \n",
            "\n",
            "       Global_intensity  Sub_metering_1  Sub_metering_2  Sub_metering_3  \n",
            "count      2.075259e+06    2.075259e+06    2.075259e+06    2.075259e+06  \n",
            "mean       4.627759e+00    1.121923e+00    1.298520e+00    6.458447e+00  \n",
            "std        4.416490e+00    6.114397e+00    5.785470e+00    8.384178e+00  \n",
            "min        2.000000e-01    0.000000e+00    0.000000e+00    0.000000e+00  \n",
            "25%        1.400000e+00    0.000000e+00    0.000000e+00    0.000000e+00  \n",
            "50%        2.800000e+00    0.000000e+00    0.000000e+00    1.000000e+00  \n",
            "75%        6.400000e+00    0.000000e+00    1.000000e+00    1.700000e+01  \n",
            "max        4.840000e+01    8.800000e+01    8.000000e+01    3.100000e+01  \n",
            "                     Global_active_power  Global_reactive_power     Voltage  \\\n",
            "datetime                                                                      \n",
            "2007-04-29 00:00:00             1.091615               0.123714  240.839858   \n",
            "2007-04-29 00:01:00             1.091615               0.123714  240.839858   \n",
            "2007-04-29 00:02:00             1.091615               0.123714  240.839858   \n",
            "2007-04-29 00:03:00             1.091615               0.123714  240.839858   \n",
            "2007-04-29 00:04:00             1.091615               0.123714  240.839858   \n",
            "...                                  ...                    ...         ...   \n",
            "2007-04-29 23:55:00             1.091615               0.123714  240.839858   \n",
            "2007-04-29 23:56:00             1.091615               0.123714  240.839858   \n",
            "2007-04-29 23:57:00             1.091615               0.123714  240.839858   \n",
            "2007-04-29 23:58:00             1.091615               0.123714  240.839858   \n",
            "2007-04-29 23:59:00             1.091615               0.123714  240.839858   \n",
            "\n",
            "                     Global_intensity  Sub_metering_1  Sub_metering_2  \\\n",
            "datetime                                                                \n",
            "2007-04-29 00:00:00          4.627759        1.121923         1.29852   \n",
            "2007-04-29 00:01:00          4.627759        1.121923         1.29852   \n",
            "2007-04-29 00:02:00          4.627759        1.121923         1.29852   \n",
            "2007-04-29 00:03:00          4.627759        1.121923         1.29852   \n",
            "2007-04-29 00:04:00          4.627759        1.121923         1.29852   \n",
            "...                               ...             ...             ...   \n",
            "2007-04-29 23:55:00          4.627759        1.121923         1.29852   \n",
            "2007-04-29 23:56:00          4.627759        1.121923         1.29852   \n",
            "2007-04-29 23:57:00          4.627759        1.121923         1.29852   \n",
            "2007-04-29 23:58:00          4.627759        1.121923         1.29852   \n",
            "2007-04-29 23:59:00          4.627759        1.121923         1.29852   \n",
            "\n",
            "                     Sub_metering_3  \n",
            "datetime                             \n",
            "2007-04-29 00:00:00        6.458447  \n",
            "2007-04-29 00:01:00        6.458447  \n",
            "2007-04-29 00:02:00        6.458447  \n",
            "2007-04-29 00:03:00        6.458447  \n",
            "2007-04-29 00:04:00        6.458447  \n",
            "...                             ...  \n",
            "2007-04-29 23:55:00        6.458447  \n",
            "2007-04-29 23:56:00        6.458447  \n",
            "2007-04-29 23:57:00        6.458447  \n",
            "2007-04-29 23:58:00        6.458447  \n",
            "2007-04-29 23:59:00        6.458447  \n",
            "\n",
            "[1440 rows x 7 columns]\n"
          ],
          "name": "stdout"
        }
      ]
    },
    {
      "cell_type": "markdown",
      "metadata": {
        "id": "0HbpJbzk8s_S"
      },
      "source": [
        "#### Data Preprocessing"
      ]
    },
    {
      "cell_type": "code",
      "metadata": {
        "id": "dzHlLQzB53yb",
        "colab": {
          "base_uri": "https://localhost:8080/"
        },
        "outputId": "b509903c-1cda-42c0-95fa-e13bc27df973"
      },
      "source": [
        "# we can easily resample minutes to days\n",
        "data_daily=data.resample('D',level=0).sum()\n",
        "print(data_daily.shape) # must be reduce by 60*24 because the orgianl data was taken each minute\n",
        "print(data_daily.head())"
      ],
      "execution_count": null,
      "outputs": [
        {
          "output_type": "stream",
          "text": [
            "(1442, 7)\n",
            "            Global_active_power  Global_reactive_power    Voltage  \\\n",
            "datetime                                                            \n",
            "2006-12-16             1209.176                 34.922   93552.53   \n",
            "2006-12-17             3390.460                226.006  345725.32   \n",
            "2006-12-18             2203.826                161.792  347373.64   \n",
            "2006-12-19             1666.194                150.942  348479.01   \n",
            "2006-12-20             2225.748                160.998  348923.61   \n",
            "\n",
            "            Global_intensity  Sub_metering_1  Sub_metering_2  Sub_metering_3  \n",
            "datetime                                                                      \n",
            "2006-12-16            5180.8             0.0           546.0          4926.0  \n",
            "2006-12-17           14398.6          2033.0          4187.0         13341.0  \n",
            "2006-12-18            9247.2          1063.0          2621.0         14018.0  \n",
            "2006-12-19            7094.0           839.0          7602.0          6197.0  \n",
            "2006-12-20            9313.0             0.0          2648.0         14063.0  \n"
          ],
          "name": "stdout"
        }
      ]
    },
    {
      "cell_type": "markdown",
      "metadata": {
        "id": "hdKtA4RL9oGM"
      },
      "source": [
        "### Data Visualization"
      ]
    },
    {
      "cell_type": "code",
      "metadata": {
        "id": "eamsOSE49orQ",
        "colab": {
          "base_uri": "https://localhost:8080/",
          "height": 427
        },
        "outputId": "ba76eb2f-ddb4-4103-f6d7-c1c0223e8fa6"
      },
      "source": [
        "daily_data_per_meter=data_daily.loc[:,['Sub_metering_1','Sub_metering_2','Sub_metering_3']]\n",
        "print(daily_data_per_meter.head())\n",
        "daily_data_per_meter.plot()  # can plot directly in pandas"
      ],
      "execution_count": null,
      "outputs": [
        {
          "output_type": "stream",
          "text": [
            "            Sub_metering_1  Sub_metering_2  Sub_metering_3\n",
            "datetime                                                  \n",
            "2006-12-16             0.0           546.0          4926.0\n",
            "2006-12-17          2033.0          4187.0         13341.0\n",
            "2006-12-18          1063.0          2621.0         14018.0\n",
            "2006-12-19           839.0          7602.0          6197.0\n",
            "2006-12-20             0.0          2648.0         14063.0\n"
          ],
          "name": "stdout"
        },
        {
          "output_type": "execute_result",
          "data": {
            "text/plain": [
              "<matplotlib.axes._subplots.AxesSubplot at 0x7f830596d160>"
            ]
          },
          "metadata": {
            "tags": []
          },
          "execution_count": 11
        },
        {
          "output_type": "display_data",
          "data": {
            "image/png": "[encoded data removed]",
            "text/plain": [
              "<Figure size 432x288 with 1 Axes>"
            ]
          },
          "metadata": {
            "tags": [],
            "needs_background": "light"
          }
        }
      ]
    },
    {
      "cell_type": "code",
      "metadata": {
        "id": "lboZRVYY-DPV",
        "colab": {
          "base_uri": "https://localhost:8080/",
          "height": 588
        },
        "outputId": "ccba0fcd-a83f-4e1f-9fca-4f785b58ace4"
      },
      "source": [
        "plt.figure()\n",
        "plt.figure(figsize=(12,8))\n",
        "plt.suptitle(\"usage per meter\")\n",
        "\n",
        "plt.subplot(311)\n",
        "plt.plot(data_daily['Sub_metering_1'],color='blue')\n",
        "plt.xlabel('Time')\n",
        "plt.ylabel('Watt-hour')\n",
        "\n",
        "plt.subplot(312)\n",
        "plt.plot(data_daily['Sub_metering_2'],color='green')\n",
        "plt.xlabel('Time')\n",
        "plt.ylabel('Watt-hour')\n",
        "\n",
        "plt.subplot(313)\n",
        "plt.plot(data_daily['Sub_metering_3'],color='red')\n",
        "plt.xlabel('Time')\n",
        "plt.ylabel('Watt-hour')\n",
        "\n"
      ],
      "execution_count": null,
      "outputs": [
        {
          "output_type": "execute_result",
          "data": {
            "text/plain": [
              "Text(0, 0.5, 'Watt-hour')"
            ]
          },
          "metadata": {
            "tags": []
          },
          "execution_count": 12
        },
        {
          "output_type": "display_data",
          "data": {
            "text/plain": [
              "<Figure size 432x288 with 0 Axes>"
            ]
          },
          "metadata": {
            "tags": []
          }
        },
        {
          "output_type": "display_data",
          "data": {
            "image/png": "[encoded data removed]",
            "text/plain": [
              "<Figure size 864x576 with 3 Axes>"
            ]
          },
          "metadata": {
            "tags": [],
            "needs_background": "light"
          }
        }
      ]
    },
    {
      "cell_type": "markdown",
      "metadata": {
        "id": "d0IS9jJeEy9y"
      },
      "source": [
        "**Same result using seaborn**"
      ]
    },
    {
      "cell_type": "code",
      "metadata": {
        "id": "yr3rkW0NAOj3",
        "colab": {
          "base_uri": "https://localhost:8080/",
          "height": 567
        },
        "outputId": "01f21e9a-f297-4110-fd28-ec8c67af6764"
      },
      "source": [
        "fig,ax=plt.subplots(3,1,figsize=(12,9))\n",
        "\n",
        "sns.lineplot(data=data_daily['Sub_metering_1'],color='blue',label='Sub_1',ax=ax[0])\n",
        "ax[0].set_title('Sub_1')\n",
        "ax[0].set(xlabel='time', ylabel='watt-hour')\n",
        "ax[0].legend(loc='Upper_right')\n",
        "\n",
        "sns.lineplot(data=data_daily['Sub_metering_2'],color='green',label='Sub_2',ax=ax[1])\n",
        "ax[1].set_title('Sub_2')\n",
        "ax[1].set(xlabel='time', ylabel='watt-hour')\n",
        "ax[1].legend(loc='Upper_right')\n",
        "\n",
        "sns.lineplot(data=data_daily['Sub_metering_3'],color='red',label='Sub_3',ax=ax[2])\n",
        "ax[2].set_title('Sub_3')\n",
        "ax[2].set(xlabel='time', ylabel='watt-hour')\n",
        "ax[2].legend(loc='Upper_right')\n",
        "\n",
        "fig.subplots_adjust(hspace = 0.5)  # to show the label (more space btween plots)\n"
      ],
      "execution_count": null,
      "outputs": [
        {
          "output_type": "display_data",
          "data": {
            "image/png": "[encoded data removed]",
            "text/plain": [
              "<Figure size 864x648 with 3 Axes>"
            ]
          },
          "metadata": {
            "tags": [],
            "needs_background": "light"
          }
        }
      ]
    },
    {
      "cell_type": "markdown",
      "metadata": {
        "id": "4flT5Rk7GCBz"
      },
      "source": [
        "Starting date: 2006-12-16\n",
        "Ending date: 2010-11-26\t\n",
        "\n",
        "If we want one week ahead prediction, it makes sense to use the previous week of data to predict the week ahead. \n",
        "\n",
        "To set this up properly, we would want our week to start on Monday and end on Sunday.\n",
        "\n",
        "> The **first Monday in the dataset** is December 18, 2006 (which is the third row in the dataset).\n",
        "\n",
        "> The **last Sunday in the dataset** is November 21, 2010. (which is the -6 from the end).\n",
        "\n",
        "Organizing the data into the step up above, we would have a total of 205 weeks.\n",
        "\n",
        "*NOPE.. didn't count them myself! Here's an online [calculator](https://planetcalc.com/274/?license=1).*"
      ]
    },
    {
      "cell_type": "code",
      "metadata": {
        "id": "6gD8Khk5GQtY",
        "colab": {
          "base_uri": "https://localhost:8080/",
          "height": 148
        },
        "outputId": "c413bae5-6bb4-44e2-e4a9-803d5ea581e2"
      },
      "source": [
        "data_daily.iloc[[-5]] # Last day for us\n",
        "data_daily.iloc[[2]] # First day for us"
      ],
      "execution_count": null,
      "outputs": [
        {
          "output_type": "execute_result",
          "data": {
            "text/html": [
              "<div>\n",
              "<style scoped>\n",
              "    .dataframe tbody tr th:only-of-type {\n",
              "        vertical-align: middle;\n",
              "    }\n",
              "\n",
              "    .dataframe tbody tr th {\n",
              "        vertical-align: top;\n",
              "    }\n",
              "\n",
              "    .dataframe thead th {\n",
              "        text-align: right;\n",
              "    }\n",
              "</style>\n",
              "<table border=\"1\" class=\"dataframe\">\n",
              "  <thead>\n",
              "    <tr style=\"text-align: right;\">\n",
              "      <th></th>\n",
              "      <th>Global_active_power</th>\n",
              "      <th>Global_reactive_power</th>\n",
              "      <th>Voltage</th>\n",
              "      <th>Global_intensity</th>\n",
              "      <th>Sub_metering_1</th>\n",
              "      <th>Sub_metering_2</th>\n",
              "      <th>Sub_metering_3</th>\n",
              "    </tr>\n",
              "    <tr>\n",
              "      <th>datetime</th>\n",
              "      <th></th>\n",
              "      <th></th>\n",
              "      <th></th>\n",
              "      <th></th>\n",
              "      <th></th>\n",
              "      <th></th>\n",
              "      <th></th>\n",
              "    </tr>\n",
              "  </thead>\n",
              "  <tbody>\n",
              "    <tr>\n",
              "      <th>2006-12-18</th>\n",
              "      <td>2203.826</td>\n",
              "      <td>161.792</td>\n",
              "      <td>347373.64</td>\n",
              "      <td>9247.2</td>\n",
              "      <td>1063.0</td>\n",
              "      <td>2621.0</td>\n",
              "      <td>14018.0</td>\n",
              "    </tr>\n",
              "  </tbody>\n",
              "</table>\n",
              "</div>"
            ],
            "text/plain": [
              "            Global_active_power  Global_reactive_power    Voltage  \\\n",
              "datetime                                                            \n",
              "2006-12-18             2203.826                161.792  347373.64   \n",
              "\n",
              "            Global_intensity  Sub_metering_1  Sub_metering_2  Sub_metering_3  \n",
              "datetime                                                                      \n",
              "2006-12-18            9247.2          1063.0          2621.0         14018.0  "
            ]
          },
          "metadata": {
            "tags": []
          },
          "execution_count": 14
        }
      ]
    },
    {
      "cell_type": "markdown",
      "metadata": {
        "id": "w-4TMe2fE4z2"
      },
      "source": [
        "If we decide to divide our data into ~70% training and ~30% testing, then we would need:\n",
        "\n",
        "30% of 205 weeks = 46 weeks\n",
        "\n",
        "46 weeks = 322 days\n",
        "\n",
        "We are starting at day -5 so we need to read up to -(322+5)= -327. **Great!**"
      ]
    },
    {
      "cell_type": "code",
      "metadata": {
        "id": "rGihle3HGYnG",
        "colab": {
          "base_uri": "https://localhost:8080/"
        },
        "outputId": "b3b39084-a060-41a3-f41c-6b4a49afbef4"
      },
      "source": [
        "train_df=data_daily.iloc[2:-327,:]\n",
        "train=train_df.values\n",
        "test_df=data_daily.iloc[-327:-5,:]\n",
        "test=test_df.values\n",
        "print(train_df.index)\n",
        "print(test_df.index)\n",
        "print(train.shape)\n",
        "print(test.shape)"
      ],
      "execution_count": null,
      "outputs": [
        {
          "output_type": "stream",
          "text": [
            "DatetimeIndex(['2006-12-18', '2006-12-19', '2006-12-20', '2006-12-21',\n",
            "               '2006-12-22', '2006-12-23', '2006-12-24', '2006-12-25',\n",
            "               '2006-12-26', '2006-12-27',\n",
            "               ...\n",
            "               '2009-12-25', '2009-12-26', '2009-12-27', '2009-12-28',\n",
            "               '2009-12-29', '2009-12-30', '2009-12-31', '2010-01-01',\n",
            "               '2010-01-02', '2010-01-03'],\n",
            "              dtype='datetime64[ns]', name='datetime', length=1113, freq='D')\n",
            "DatetimeIndex(['2010-01-04', '2010-01-05', '2010-01-06', '2010-01-07',\n",
            "               '2010-01-08', '2010-01-09', '2010-01-10', '2010-01-11',\n",
            "               '2010-01-12', '2010-01-13',\n",
            "               ...\n",
            "               '2010-11-12', '2010-11-13', '2010-11-14', '2010-11-15',\n",
            "               '2010-11-16', '2010-11-17', '2010-11-18', '2010-11-19',\n",
            "               '2010-11-20', '2010-11-21'],\n",
            "              dtype='datetime64[ns]', name='datetime', length=322, freq='D')\n",
            "(1113, 7)\n",
            "(322, 7)\n"
          ],
          "name": "stdout"
        }
      ]
    },
    {
      "cell_type": "code",
      "metadata": {
        "id": "tiEYSvG4S2L0",
        "colab": {
          "base_uri": "https://localhost:8080/"
        },
        "outputId": "9671cefc-689c-4cfe-87c7-8f90660d4a5b"
      },
      "source": [
        "test_df.iloc[-1,:]"
      ],
      "execution_count": null,
      "outputs": [
        {
          "output_type": "execute_result",
          "data": {
            "text/plain": [
              "Global_active_power         900.910\n",
              "Global_reactive_power       119.624\n",
              "Voltage                  347299.480\n",
              "Global_intensity           3798.600\n",
              "Sub_metering_1                0.000\n",
              "Sub_metering_2              506.000\n",
              "Sub_metering_3             4778.000\n",
              "Name: 2010-11-21 00:00:00, dtype: float64"
            ]
          },
          "metadata": {
            "tags": []
          },
          "execution_count": 16
        }
      ]
    },
    {
      "cell_type": "code",
      "metadata": {
        "id": "fZ6BRiFRIU-n",
        "colab": {
          "base_uri": "https://localhost:8080/"
        },
        "outputId": "9d60a01c-63a4-40b2-cfbb-b716820f38ff"
      },
      "source": [
        "#we must have evry 7 day(1 week ) as an input, so we will split the data to len(data)/7 to know how many splits\n",
        "train_split=np.split(train, len(train)/7)     # # spliting the data is usless because the data will be faltten again\n",
        "train_2=np.array(train_split)\n",
        "\n",
        "test_split=np.split(test,len(test)/7)\n",
        "test_2=np.array(test_split)\n",
        "print(train_2.shape)\n",
        "print(test_2.shape)\n",
        "print(train_2[0,:,:])"
      ],
      "execution_count": null,
      "outputs": [
        {
          "output_type": "stream",
          "text": [
            "(159, 7, 7)\n",
            "(46, 7, 7)\n",
            "[[2.20382600e+03 1.61792000e+02 3.47373640e+05 9.24720000e+03\n",
            "  1.06300000e+03 2.62100000e+03 1.40180000e+04]\n",
            " [1.66619400e+03 1.50942000e+02 3.48479010e+05 7.09400000e+03\n",
            "  8.39000000e+02 7.60200000e+03 6.19700000e+03]\n",
            " [2.22574800e+03 1.60998000e+02 3.48923610e+05 9.31300000e+03\n",
            "  0.00000000e+00 2.64800000e+03 1.40630000e+04]\n",
            " [1.71880723e+03 1.44413429e+02 3.47097990e+05 7.24785552e+03\n",
            "  1.76724385e+03 2.62559704e+03 1.04339169e+04]\n",
            " [2.34133800e+03 1.86906000e+02 3.47305750e+05 9.89700000e+03\n",
            "  3.15100000e+03 3.50000000e+02 1.11310000e+04]\n",
            " [4.77338600e+03 2.21470000e+02 3.45795950e+05 2.02004000e+04\n",
            "  2.66900000e+03 4.25000000e+02 1.47260000e+04]\n",
            " [2.55001200e+03 1.49900000e+02 3.48029910e+05 1.10022000e+04\n",
            "  1.70300000e+03 5.08200000e+03 6.89100000e+03]]\n"
          ],
          "name": "stdout"
        }
      ]
    },
    {
      "cell_type": "code",
      "metadata": {
        "id": "ojFSSggBN_X3",
        "colab": {
          "base_uri": "https://localhost:8080/"
        },
        "outputId": "b6fb4a96-5642-4bbd-81eb-f1ec103ffd4a"
      },
      "source": [
        "#our model must take 7 days as input, this why our data must be reshaped to [d1 d2 d3 d4 d5 d6 d7] each row must represnet one day and 7 colums that are observation from the sensors\n",
        "train_2=train_2.reshape(train_2.shape[0]*train_2.shape[1],train_2.shape[2])  # shape: [weeks*days, sensors]\n",
        "print(train_2.shape)\n",
        "test_2=test_2.reshape(test_2.shape[0]*test_2.shape[1],test_2.shape[2])  # shape: [weeks*days, sensors]\n",
        "print(test_2.shape)\n",
        "#the shape is the sam of train and test shape\n",
        "'''\n",
        "this cell has undo what the cell above have done,meaning there were both useless, but used for learning purposes\n",
        "'''\n",
        "print(len(train_2))"
      ],
      "execution_count": null,
      "outputs": [
        {
          "output_type": "stream",
          "text": [
            "(1113, 7)\n",
            "(322, 7)\n",
            "1113\n"
          ],
          "name": "stdout"
        }
      ]
    },
    {
      "cell_type": "markdown",
      "metadata": {
        "id": "u6EhpJFw6a40"
      },
      "source": [
        "we will creat a function that will allow to take the X and y arrays to train our model from the data set"
      ]
    },
    {
      "cell_type": "markdown",
      "metadata": {
        "id": "iK8MScNf-acT"
      },
      "source": [
        "[Input]: \n",
        "[d01, d02, d03, d04, d05, d06, d07],\n",
        " [Output]: [d08, d09, d10, d11, d12, d13, d14]"
      ]
    },
    {
      "cell_type": "markdown",
      "metadata": {
        "id": "qjlTYiAg-mja"
      },
      "source": [
        "[Input]:[d02, d03, d04, d05, d06, d07, d08], [Output]:[d09, d10, d11, d12, d13, d14, d15]\n"
      ]
    },
    {
      "cell_type": "code",
      "metadata": {
        "id": "hVcT35kw3lOH",
        "colab": {
          "base_uri": "https://localhost:8080/",
          "height": 596
        },
        "outputId": "650a944c-85e4-42d1-9238-195c8191a125"
      },
      "source": [
        "def supervised_setup(data,start_col,end_col,y_index):  #satrt_index and end_index are the index of columns to be used as input for the model\n",
        "                                                           #y_index are the column index that will be used as output of the model\n",
        " X=[]\n",
        " y=[]\n",
        " input_start=0\n",
        " n_input=7\n",
        " n_out=7\n",
        " for i in range(len(data)): #becasue each row in data represnet a day\n",
        "  input_end=input_start+n_input\n",
        "  output_end=input_end+n_out\n",
        "  if output_end<=len(data):\n",
        "   x_input=data[input_start:input_end,start_col:end_col]\n",
        "   x_input_2=x_input.reshape(len(x_input),x_input.shape[1])# this line is useless becasue the x_input alfready have the wanted shape\n",
        "\n",
        "   X.append(x_input_2) \n",
        "\n",
        "   y_input=data[input_end:output_end,y_index]\n",
        "   y.append(y_input)\n",
        "  \n",
        "  input_start+=1\n",
        "  if input_start==1:\n",
        "    print(x_input.shape)\n",
        "    print(x_input_2.shape)\n",
        "    print(x_input)\n",
        "    print(x_input_2)\n",
        " X=np.array(X)\n",
        " y=np.array(y)\n",
        " return X,y\n",
        "\n",
        "X_train,y_train=supervised_setup(train_2,0,3,0) # because i want to take only the first 3 sensors power as input and predict the active power(the first feature)\n",
        "X_test,y_test=supervised_setup(test,0,3,0)\n",
        "'''\n",
        "each model input will conist of an array of 7 rows wehre each rows represent a day and the number of columns will reprsent the sensors chosen to enter the predcition\n",
        "'''"
      ],
      "execution_count": null,
      "outputs": [
        {
          "output_type": "stream",
          "text": [
            "(7, 3)\n",
            "(7, 3)\n",
            "[[2.20382600e+03 1.61792000e+02 3.47373640e+05]\n",
            " [1.66619400e+03 1.50942000e+02 3.48479010e+05]\n",
            " [2.22574800e+03 1.60998000e+02 3.48923610e+05]\n",
            " [1.71880723e+03 1.44413429e+02 3.47097990e+05]\n",
            " [2.34133800e+03 1.86906000e+02 3.47305750e+05]\n",
            " [4.77338600e+03 2.21470000e+02 3.45795950e+05]\n",
            " [2.55001200e+03 1.49900000e+02 3.48029910e+05]]\n",
            "[[2.20382600e+03 1.61792000e+02 3.47373640e+05]\n",
            " [1.66619400e+03 1.50942000e+02 3.48479010e+05]\n",
            " [2.22574800e+03 1.60998000e+02 3.48923610e+05]\n",
            " [1.71880723e+03 1.44413429e+02 3.47097990e+05]\n",
            " [2.34133800e+03 1.86906000e+02 3.47305750e+05]\n",
            " [4.77338600e+03 2.21470000e+02 3.45795950e+05]\n",
            " [2.55001200e+03 1.49900000e+02 3.48029910e+05]]\n",
            "(7, 3)\n",
            "(7, 3)\n",
            "[[1.6041320e+03 1.5640400e+02 3.5380673e+05]\n",
            " [2.2197800e+03 1.4893600e+02 3.5211029e+05]\n",
            " [1.7771800e+03 1.5208000e+02 3.5313813e+05]\n",
            " [1.7694420e+03 1.1502400e+02 3.5266833e+05]\n",
            " [1.7972080e+03 1.5978000e+02 3.5194293e+05]\n",
            " [2.3369000e+03 1.9940000e+02 3.5117242e+05]\n",
            " [2.5084660e+03 2.2717000e+02 3.5113049e+05]]\n",
            "[[1.6041320e+03 1.5640400e+02 3.5380673e+05]\n",
            " [2.2197800e+03 1.4893600e+02 3.5211029e+05]\n",
            " [1.7771800e+03 1.5208000e+02 3.5313813e+05]\n",
            " [1.7694420e+03 1.1502400e+02 3.5266833e+05]\n",
            " [1.7972080e+03 1.5978000e+02 3.5194293e+05]\n",
            " [2.3369000e+03 1.9940000e+02 3.5117242e+05]\n",
            " [2.5084660e+03 2.2717000e+02 3.5113049e+05]]\n"
          ],
          "name": "stdout"
        },
        {
          "output_type": "execute_result",
          "data": {
            "application/vnd.google.colaboratory.intrinsic+json": {
              "type": "string"
            },
            "text/plain": [
              "'\\neach model input will conist of an array of 7 rows wehre each rows represent a day and the number of columns will reprsent the sensors chosen to enter the predcition\\n'"
            ]
          },
          "metadata": {
            "tags": []
          },
          "execution_count": 19
        }
      ]
    },
    {
      "cell_type": "code",
      "metadata": {
        "id": "z8HjWgcyTHoG",
        "colab": {
          "base_uri": "https://localhost:8080/"
        },
        "outputId": "7b617a62-1f11-48a6-80e3-c79ca16add84"
      },
      "source": [
        "#Understand\n",
        "print(test_df.iloc[-1,:])\n",
        "print(y_test[-1])\n",
        "print(test_df.iloc[-14,0])\n",
        "print('lat row in x_test',X_test[-1,:,0])\n",
        "print(y_test[-7])\n",
        "print(\"--------------\")\n",
        "print(X_test[0,:,0])\n",
        "print(y_test[0])\n",
        "print(X_test[7,:,0])\n",
        "print(\"--------\")\n",
        "print(train[-7:,0])\n",
        "print(y_train[-1])\n"
      ],
      "execution_count": null,
      "outputs": [
        {
          "output_type": "stream",
          "text": [
            "Global_active_power         900.910\n",
            "Global_reactive_power       119.624\n",
            "Voltage                  347299.480\n",
            "Global_intensity           3798.600\n",
            "Sub_metering_1                0.000\n",
            "Sub_metering_2              506.000\n",
            "Sub_metering_3             4778.000\n",
            "Name: 2010-11-21 00:00:00, dtype: float64\n",
            "[1747.382 1509.748 1582.032 1652.152 1570.4   2197.006  900.91 ]\n",
            "1825.540000000001\n",
            "lat row in x_test [1825.54  2022.098 1946.534 1773.592 1836.822 2023.174 2038.392]\n",
            "[2022.098 1946.534 1773.592 1836.822 2023.174 2038.392 1747.382]\n",
            "--------------\n",
            "[1604.132 2219.78  1777.18  1769.442 1797.208 2336.9   2508.466]\n",
            "[1518.684      1879.65142497 1571.92565256 1865.11237168 2196.76\n",
            " 2150.112      1906.556     ]\n",
            "[1518.684      1879.65142497 1571.92565256 1865.11237168 2196.76\n",
            " 2150.112      1906.556     ]\n",
            "--------\n",
            "[2094.098      2047.968      2451.11       2211.892      1224.252\n",
            " 1309.92761504 2083.454     ]\n",
            "[2094.098      2047.968      2451.11       2211.892      1224.252\n",
            " 1309.92761504 2083.454     ]\n"
          ],
          "name": "stdout"
        }
      ]
    },
    {
      "cell_type": "code",
      "metadata": {
        "id": "rxAOmWSKKt8w",
        "colab": {
          "base_uri": "https://localhost:8080/"
        },
        "outputId": "56815fe0-aaff-4b3e-dab1-baa37b8f6dd1"
      },
      "source": [
        "print(type(X_train))\n",
        "print(X_train.shape)\n",
        "''' each row of the X_train contain an array which have the dimension(7,3): 7 for the number of days for each model input and 3 for the number of sensors coniders\n",
        "so the input layer for our model will need to have the following shape(7,3) with total of 21 neurones\n",
        "'''\n",
        "print(X_train[0])\n",
        "print(X_test.shape)\n",
        "print(y_train.shape)\n",
        "print(y_test.shape)"
      ],
      "execution_count": null,
      "outputs": [
        {
          "output_type": "stream",
          "text": [
            "<class 'numpy.ndarray'>\n",
            "(1100, 7, 3)\n",
            "[[2.20382600e+03 1.61792000e+02 3.47373640e+05]\n",
            " [1.66619400e+03 1.50942000e+02 3.48479010e+05]\n",
            " [2.22574800e+03 1.60998000e+02 3.48923610e+05]\n",
            " [1.71880723e+03 1.44413429e+02 3.47097990e+05]\n",
            " [2.34133800e+03 1.86906000e+02 3.47305750e+05]\n",
            " [4.77338600e+03 2.21470000e+02 3.45795950e+05]\n",
            " [2.55001200e+03 1.49900000e+02 3.48029910e+05]]\n",
            "(309, 7, 3)\n",
            "(1100, 7)\n",
            "(309, 7)\n"
          ],
          "name": "stdout"
        }
      ]
    },
    {
      "cell_type": "markdown",
      "metadata": {
        "id": "Db1J6nbRPwX9"
      },
      "source": [
        " ### model 1 building"
      ]
    },
    {
      "cell_type": "code",
      "metadata": {
        "id": "w9qZrNtvPvtx",
        "colab": {
          "base_uri": "https://localhost:8080/"
        },
        "outputId": "b6f0dab5-7d4d-4f91-abe4-f89498e3975f"
      },
      "source": [
        "from keras.models import Sequential\n",
        "from keras.layers import Dense,LSTM,Flatten\n",
        "\n",
        "# i msut use LSTM for the first layer because it will take into conisderation that i am dealing with a time sereies data, it will work on the for input martrix\n",
        "# if a use a dense layer it will only take the last dimention of the input which is \"3\".\n",
        "model=Sequential()\n",
        "#model.add(Dense())# this wrong it won't deel with data as time series and it will only take the last input dimention 3, # if i try i see the number of param or this layer is very small\n",
        "model.add(LSTM(40,input_shape=(X_train.shape[1],X_train.shape[2]),activation='relu',return_sequences=True))#set return_sequences=True to add new LSTM layer  \n",
        "model.add(LSTM(60,activation='relu',return_sequences=True))\n",
        "model.add(LSTM(60,activation='relu',return_sequences=True))\n",
        "model.add(LSTM(60,activation='relu'))\n",
        "model.add(Dense(20,activation='relu'))\n",
        "model.add(Dense(X_train.shape[1],activation='linear'))\n",
        "\n",
        "model.summary()\n",
        "# number of param for lstm layer:\n",
        "#params = 4 * ((size_of_input + 1) * size_of_output + size_of_output^2)\n",
        "#params=4*(  (3+1)*40  +40^2)=7040, note that the size of the input is only considered 3.\n",
        "model.compile(optimizer='adam',loss='mse')\n",
        "\n",
        "model.fit(X_train,y_train,epochs=50,batch_size=10,verbose=1)"
      ],
      "execution_count": null,
      "outputs": [
        {
          "output_type": "stream",
          "text": [
            "Model: \"sequential\"\n",
            "_________________________________________________________________\n",
            "Layer (type)                 Output Shape              Param #   \n",
            "=================================================================\n",
            "lstm (LSTM)                  (None, 7, 40)             7040      \n",
            "_________________________________________________________________\n",
            "lstm_1 (LSTM)                (None, 7, 60)             24240     \n",
            "_________________________________________________________________\n",
            "lstm_2 (LSTM)                (None, 7, 60)             29040     \n",
            "_________________________________________________________________\n",
            "lstm_3 (LSTM)                (None, 60)                29040     \n",
            "_________________________________________________________________\n",
            "dense (Dense)                (None, 20)                1220      \n",
            "_________________________________________________________________\n",
            "dense_1 (Dense)              (None, 7)                 147       \n",
            "=================================================================\n",
            "Total params: 90,727\n",
            "Trainable params: 90,727\n",
            "Non-trainable params: 0\n",
            "_________________________________________________________________\n",
            "Epoch 1/50\n",
            "110/110 [==============================] - 4s 10ms/step - loss: 3557540.7038\n",
            "Epoch 2/50\n",
            "110/110 [==============================] - 1s 10ms/step - loss: 394386.3916\n",
            "Epoch 3/50\n",
            "110/110 [==============================] - 1s 10ms/step - loss: 394531.5628\n",
            "Epoch 4/50\n",
            "110/110 [==============================] - 1s 10ms/step - loss: 368793.3587\n",
            "Epoch 5/50\n",
            "110/110 [==============================] - 1s 10ms/step - loss: 371408.8739\n",
            "Epoch 6/50\n",
            "110/110 [==============================] - 1s 10ms/step - loss: 383595.0648\n",
            "Epoch 7/50\n",
            "110/110 [==============================] - 1s 10ms/step - loss: 402850.7655\n",
            "Epoch 8/50\n",
            "110/110 [==============================] - 1s 10ms/step - loss: 363017.0056\n",
            "Epoch 9/50\n",
            "110/110 [==============================] - 1s 10ms/step - loss: 396206.6498\n",
            "Epoch 10/50\n",
            "110/110 [==============================] - 1s 10ms/step - loss: 379541.1312\n",
            "Epoch 11/50\n",
            "110/110 [==============================] - 1s 10ms/step - loss: 381178.4624\n",
            "Epoch 12/50\n",
            "110/110 [==============================] - 1s 10ms/step - loss: 384411.6444\n",
            "Epoch 13/50\n",
            "110/110 [==============================] - 1s 10ms/step - loss: 371789.4427\n",
            "Epoch 14/50\n",
            "110/110 [==============================] - 1s 10ms/step - loss: 388823.6160\n",
            "Epoch 15/50\n",
            "110/110 [==============================] - 1s 10ms/step - loss: 370381.2332\n",
            "Epoch 16/50\n",
            "110/110 [==============================] - 1s 10ms/step - loss: 371864.4312\n",
            "Epoch 17/50\n",
            "110/110 [==============================] - 1s 10ms/step - loss: 372318.2147\n",
            "Epoch 18/50\n",
            "110/110 [==============================] - 1s 10ms/step - loss: 413131.5448\n",
            "Epoch 19/50\n",
            "110/110 [==============================] - 1s 10ms/step - loss: 375986.1745\n",
            "Epoch 20/50\n",
            "110/110 [==============================] - 1s 10ms/step - loss: 377236.5310\n",
            "Epoch 21/50\n",
            "110/110 [==============================] - 1s 10ms/step - loss: 393250.6177\n",
            "Epoch 22/50\n",
            "110/110 [==============================] - 1s 10ms/step - loss: 370942.1363\n",
            "Epoch 23/50\n",
            "110/110 [==============================] - 1s 10ms/step - loss: 391159.5338\n",
            "Epoch 24/50\n",
            "110/110 [==============================] - 1s 10ms/step - loss: 367535.6805\n",
            "Epoch 25/50\n",
            "110/110 [==============================] - 1s 10ms/step - loss: 396073.7030\n",
            "Epoch 26/50\n",
            "110/110 [==============================] - 1s 10ms/step - loss: 381514.7261\n",
            "Epoch 27/50\n",
            "110/110 [==============================] - 1s 10ms/step - loss: 386144.0870\n",
            "Epoch 28/50\n",
            "110/110 [==============================] - 1s 10ms/step - loss: 386127.4150\n",
            "Epoch 29/50\n",
            "110/110 [==============================] - 1s 10ms/step - loss: 361521.3756\n",
            "Epoch 30/50\n",
            "110/110 [==============================] - 1s 10ms/step - loss: 361063.7035\n",
            "Epoch 31/50\n",
            "110/110 [==============================] - 1s 10ms/step - loss: 374201.9820\n",
            "Epoch 32/50\n",
            "110/110 [==============================] - 1s 10ms/step - loss: 1347830.3854\n",
            "Epoch 33/50\n",
            "110/110 [==============================] - 1s 10ms/step - loss: 394271.1731\n",
            "Epoch 34/50\n",
            "110/110 [==============================] - 1s 10ms/step - loss: 395262.9724\n",
            "Epoch 35/50\n",
            "110/110 [==============================] - 1s 10ms/step - loss: 381797.3018\n",
            "Epoch 36/50\n",
            "110/110 [==============================] - 1s 10ms/step - loss: 376124.8122\n",
            "Epoch 37/50\n",
            "110/110 [==============================] - 1s 10ms/step - loss: 378996.9583\n",
            "Epoch 38/50\n",
            "110/110 [==============================] - 1s 10ms/step - loss: 361120.1754\n",
            "Epoch 39/50\n",
            "110/110 [==============================] - 1s 10ms/step - loss: 422136.5465\n",
            "Epoch 40/50\n",
            "110/110 [==============================] - 1s 10ms/step - loss: 393328.9493\n",
            "Epoch 41/50\n",
            "110/110 [==============================] - 1s 10ms/step - loss: 364734.7627\n",
            "Epoch 42/50\n",
            "110/110 [==============================] - 1s 10ms/step - loss: 379507.1731\n",
            "Epoch 43/50\n",
            "110/110 [==============================] - 1s 10ms/step - loss: 374700.2475\n",
            "Epoch 44/50\n",
            "110/110 [==============================] - 1s 10ms/step - loss: 368242.7311\n",
            "Epoch 45/50\n",
            "110/110 [==============================] - 1s 10ms/step - loss: 391989.2390\n",
            "Epoch 46/50\n",
            "110/110 [==============================] - 1s 10ms/step - loss: 381385.6540\n",
            "Epoch 47/50\n",
            "110/110 [==============================] - 1s 10ms/step - loss: 372729.4496\n",
            "Epoch 48/50\n",
            "110/110 [==============================] - 1s 10ms/step - loss: 394173.7649\n",
            "Epoch 49/50\n",
            "110/110 [==============================] - 1s 10ms/step - loss: 380201.0144\n",
            "Epoch 50/50\n",
            "110/110 [==============================] - 1s 10ms/step - loss: 379997.5273\n"
          ],
          "name": "stdout"
        },
        {
          "output_type": "execute_result",
          "data": {
            "text/plain": [
              "<tensorflow.python.keras.callbacks.History at 0x7f82cdbbdb38>"
            ]
          },
          "metadata": {
            "tags": []
          },
          "execution_count": 22
        }
      ]
    },
    {
      "cell_type": "markdown",
      "metadata": {
        "id": "VZIVnc-aec9h"
      },
      "source": [
        "#New model "
      ]
    },
    {
      "cell_type": "code",
      "metadata": {
        "id": "DtyKVvUiFzZG",
        "colab": {
          "base_uri": "https://localhost:8080/"
        },
        "outputId": "1af4d3c8-c8e1-4694-9a90-036a18a6a3db"
      },
      "source": [
        "from keras.models import Sequential\n",
        "from keras.layers import Dense,LSTM,Flatten\n",
        "\n",
        "model=Sequential()\n",
        "model.add(LSTM(40,input_shape=(X_train.shape[1],X_train.shape[2]),activation='relu',return_sequences=True))#set return_sequences=True to add new LSTM layer  \n",
        "model.add(LSTM(60,activation='relu',return_sequences=True))\n",
        "model.add(LSTM(60,activation='relu',return_sequences=False))\n",
        "model.add(Flatten())  # i have added this Flaten layer here.\n",
        "model.add(Dense(60,activation='relu'))\n",
        "model.add(Dense(20,activation='relu'))\n",
        "model.add(Dense(X_train.shape[1],activation='linear'))\n",
        "# in my opinion this model make more sense because i have added a flatten layer after the 2-d lstm layer, to make a conection to all input,\n",
        "# i am simply trying to memik the sampe approach used with Con2D and with Con2dlstm\n",
        "# but this might be not necessary, as i have seen with other LSTM examples online\n",
        "# maybe only setting the return_sequences=False is enough to add dense (or maybe not)\n",
        "# the only way is to use both approch and test wich one will have better results\n",
        "# For this i need further research to understand who LSTM works and keras connect them to other layres.\n",
        "\n",
        "#A better approch would mean to use the ConvLstm2D layers+ flatten, which has proved to give better results.\n",
        "model.summary()\n",
        "model.compile(optimizer='adam',loss='mse')\n",
        "\n",
        "model.fit(X_train,y_train,epochs=50,batch_size=10,verbose=1)"
      ],
      "execution_count": null,
      "outputs": [
        {
          "output_type": "stream",
          "text": [
            "Model: \"sequential_1\"\n",
            "_________________________________________________________________\n",
            "Layer (type)                 Output Shape              Param #   \n",
            "=================================================================\n",
            "lstm_4 (LSTM)                (None, 7, 40)             7040      \n",
            "_________________________________________________________________\n",
            "lstm_5 (LSTM)                (None, 7, 60)             24240     \n",
            "_________________________________________________________________\n",
            "lstm_6 (LSTM)                (None, 60)                29040     \n",
            "_________________________________________________________________\n",
            "flatten (Flatten)            (None, 60)                0         \n",
            "_________________________________________________________________\n",
            "dense_2 (Dense)              (None, 60)                3660      \n",
            "_________________________________________________________________\n",
            "dense_3 (Dense)              (None, 20)                1220      \n",
            "_________________________________________________________________\n",
            "dense_4 (Dense)              (None, 7)                 147       \n",
            "=================================================================\n",
            "Total params: 65,347\n",
            "Trainable params: 65,347\n",
            "Non-trainable params: 0\n",
            "_________________________________________________________________\n",
            "Epoch 1/50\n",
            "110/110 [==============================] - 3s 7ms/step - loss: 5962120.2703\n",
            "Epoch 2/50\n",
            "110/110 [==============================] - 1s 8ms/step - loss: 390356.8986\n",
            "Epoch 3/50\n",
            "110/110 [==============================] - 1s 8ms/step - loss: 394876.2843\n",
            "Epoch 4/50\n",
            "110/110 [==============================] - 1s 8ms/step - loss: 376970.2249\n",
            "Epoch 5/50\n",
            "110/110 [==============================] - 1s 8ms/step - loss: 386250.7706\n",
            "Epoch 6/50\n",
            "110/110 [==============================] - 1s 8ms/step - loss: 366203.2841\n",
            "Epoch 7/50\n",
            "110/110 [==============================] - 1s 7ms/step - loss: 379091.8880\n",
            "Epoch 8/50\n",
            "110/110 [==============================] - 1s 8ms/step - loss: 383514.9752\n",
            "Epoch 9/50\n",
            "110/110 [==============================] - 1s 8ms/step - loss: 374343.6619\n",
            "Epoch 10/50\n",
            "110/110 [==============================] - 1s 8ms/step - loss: 389082.7363\n",
            "Epoch 11/50\n",
            "110/110 [==============================] - 1s 8ms/step - loss: 369827.5245\n",
            "Epoch 12/50\n",
            "110/110 [==============================] - 1s 8ms/step - loss: 378864.9521\n",
            "Epoch 13/50\n",
            "110/110 [==============================] - 1s 8ms/step - loss: 370988.7663\n",
            "Epoch 14/50\n",
            "110/110 [==============================] - 1s 8ms/step - loss: 354964.1441\n",
            "Epoch 15/50\n",
            "110/110 [==============================] - 1s 8ms/step - loss: 368788.9414\n",
            "Epoch 16/50\n",
            "110/110 [==============================] - 1s 8ms/step - loss: 367911.7886\n",
            "Epoch 17/50\n",
            "110/110 [==============================] - 1s 8ms/step - loss: 368653.8640\n",
            "Epoch 18/50\n",
            "110/110 [==============================] - 1s 8ms/step - loss: 344767.5310\n",
            "Epoch 19/50\n",
            "110/110 [==============================] - 1s 8ms/step - loss: 341974.8231\n",
            "Epoch 20/50\n",
            "110/110 [==============================] - 1s 8ms/step - loss: 334803.6965\n",
            "Epoch 21/50\n",
            "110/110 [==============================] - 1s 8ms/step - loss: 338227.5980\n",
            "Epoch 22/50\n",
            "110/110 [==============================] - 1s 8ms/step - loss: 359009.2889\n",
            "Epoch 23/50\n",
            "110/110 [==============================] - 1s 8ms/step - loss: 431143.8162\n",
            "Epoch 24/50\n",
            "110/110 [==============================] - 1s 8ms/step - loss: 405435.2362\n",
            "Epoch 25/50\n",
            "110/110 [==============================] - 1s 8ms/step - loss: 390707.0541\n",
            "Epoch 26/50\n",
            "110/110 [==============================] - 1s 8ms/step - loss: 412618.7294\n",
            "Epoch 27/50\n",
            "110/110 [==============================] - 1s 8ms/step - loss: 373155.7021\n",
            "Epoch 28/50\n",
            "110/110 [==============================] - 1s 8ms/step - loss: 378596.6889\n",
            "Epoch 29/50\n",
            "110/110 [==============================] - 1s 7ms/step - loss: 370095.1669\n",
            "Epoch 30/50\n",
            "110/110 [==============================] - 1s 8ms/step - loss: 378932.4482\n",
            "Epoch 31/50\n",
            "110/110 [==============================] - 1s 8ms/step - loss: 384865.0366\n",
            "Epoch 32/50\n",
            "110/110 [==============================] - 1s 8ms/step - loss: 370537.6144\n",
            "Epoch 33/50\n",
            "110/110 [==============================] - 1s 8ms/step - loss: 370790.9633\n",
            "Epoch 34/50\n",
            "110/110 [==============================] - 1s 8ms/step - loss: 385220.0923\n",
            "Epoch 35/50\n",
            "110/110 [==============================] - 1s 8ms/step - loss: 375388.8091\n",
            "Epoch 36/50\n",
            "110/110 [==============================] - 1s 8ms/step - loss: 389294.0622\n",
            "Epoch 37/50\n",
            "110/110 [==============================] - 1s 8ms/step - loss: 366135.6726\n",
            "Epoch 38/50\n",
            "110/110 [==============================] - 1s 8ms/step - loss: 375716.1394\n",
            "Epoch 39/50\n",
            "110/110 [==============================] - 1s 8ms/step - loss: 389205.8809\n",
            "Epoch 40/50\n",
            "110/110 [==============================] - 1s 8ms/step - loss: 364013.9949\n",
            "Epoch 41/50\n",
            "110/110 [==============================] - 1s 8ms/step - loss: 374938.8637\n",
            "Epoch 42/50\n",
            "110/110 [==============================] - 1s 8ms/step - loss: 371857.3072\n",
            "Epoch 43/50\n",
            "110/110 [==============================] - 1s 8ms/step - loss: 362069.7658\n",
            "Epoch 44/50\n",
            "110/110 [==============================] - 1s 8ms/step - loss: 363375.7972\n",
            "Epoch 45/50\n",
            "110/110 [==============================] - 1s 8ms/step - loss: 360073.1754\n",
            "Epoch 46/50\n",
            "110/110 [==============================] - 1s 8ms/step - loss: 381336.7618\n",
            "Epoch 47/50\n",
            "110/110 [==============================] - 1s 8ms/step - loss: 370341.0265\n",
            "Epoch 48/50\n",
            "110/110 [==============================] - 1s 8ms/step - loss: 367313.7573\n",
            "Epoch 49/50\n",
            "110/110 [==============================] - 1s 8ms/step - loss: 364888.9192\n",
            "Epoch 50/50\n",
            "110/110 [==============================] - 1s 8ms/step - loss: 364300.9806\n"
          ],
          "name": "stdout"
        },
        {
          "output_type": "execute_result",
          "data": {
            "text/plain": [
              "<tensorflow.python.keras.callbacks.History at 0x7f82caeb01d0>"
            ]
          },
          "metadata": {
            "tags": []
          },
          "execution_count": 23
        }
      ]
    },
    {
      "cell_type": "markdown",
      "metadata": {
        "id": "M3P9yoqClG-8"
      },
      "source": [
        "**Model evaluation**"
      ]
    },
    {
      "cell_type": "code",
      "metadata": {
        "id": "sI1BoRZFlKA0"
      },
      "source": [
        "\n",
        "#function to prepare one week for prediciton, that will detect the needeed model input shape froom history(=X_train) array\n",
        "def forecast(model,history):\n",
        "  data=history[-1,:,:] # take only 1 row of X_test array because it contains one week with number of sensors needed\n",
        "  x_input=data.reshape(1,history.shape[1],history.shape[2])\n",
        "  y_predict=model.predict(x_input)\n",
        "\n",
        "\n",
        "  return y_predict\n"
      ],
      "execution_count": null,
      "outputs": []
    },
    {
      "cell_type": "code",
      "metadata": {
        "id": "1bcj1DO9ukBM",
        "colab": {
          "base_uri": "https://localhost:8080/"
        },
        "outputId": "161da4f3-6104-41d4-f1f6-37ab654cc9ef"
      },
      "source": [
        "print(X_test[0])\n",
        "print(y_test[0])\n",
        "print(X_test[7,:,0])\n",
        "#the prediction of the first week of (X_test[0]) is (y_test[0]=X_test[7])\n",
        "#Meaning we dont have to bring X_train[-1]\n",
        "#because it already worked for the fitting process we tooked only the X_train and y_train\n",
        "#so for the evaluation we only need X_test and y_test"
      ],
      "execution_count": null,
      "outputs": [
        {
          "output_type": "stream",
          "text": [
            "[[1.6041320e+03 1.5640400e+02 3.5380673e+05]\n",
            " [2.2197800e+03 1.4893600e+02 3.5211029e+05]\n",
            " [1.7771800e+03 1.5208000e+02 3.5313813e+05]\n",
            " [1.7694420e+03 1.1502400e+02 3.5266833e+05]\n",
            " [1.7972080e+03 1.5978000e+02 3.5194293e+05]\n",
            " [2.3369000e+03 1.9940000e+02 3.5117242e+05]\n",
            " [2.5084660e+03 2.2717000e+02 3.5113049e+05]]\n",
            "[1518.684      1879.65142497 1571.92565256 1865.11237168 2196.76\n",
            " 2150.112      1906.556     ]\n",
            "[1518.684      1879.65142497 1571.92565256 1865.11237168 2196.76\n",
            " 2150.112      1906.556     ]\n"
          ],
          "name": "stdout"
        }
      ]
    },
    {
      "cell_type": "markdown",
      "metadata": {
        "id": "IBbNM2X5J8Uv"
      },
      "source": [
        "**THE NUMBER OF ROWS IN X_TRAIN AND X_TEST IS EQUAL TO WEEK IN TRAIN AND TEST DFS BECUASE WE HAVE A 1DAY SHIFTING**"
      ]
    },
    {
      "cell_type": "code",
      "metadata": {
        "id": "-dTE6OTlwNHP",
        "colab": {
          "base_uri": "https://localhost:8080/",
          "height": 52
        },
        "outputId": "6f34d1df-e882-4dd2-e91b-aaa9367d14a2"
      },
      "source": [
        "#history=X_train\n",
        "'''\n",
        "# To start evaluating our model, we can not start from the last week in our training data , becuase this is already taken into consideration when splitting the data\n",
        "#we must start from the testing data\n",
        "#because the are 14 days difference betewenn the test.shape(322) and the x_test.shape(=308),\n",
        " becuase the last week can not be used in the y_test becasue we dont have the prediction yet\n",
        "#and the week beefore the last week is only used in y_test \n",
        "\n",
        "'''\n",
        "#in y_test we skip the first week of the tesing data.\n",
        "#meaning that the first week could be used in x_test, and should not be taken from the last week of the training data set\n",
        "\n",
        "prediction=np.zeros(shape=[1,7]) # an array of zeros is created becasue i want to use arrays only without the us of list,and an empty array will give random values\n",
        "                              #during MSE evaluation the row of zeros must be removed\n",
        "\n",
        "for i in range(len(X_test)): #it will stop at 308\n",
        "\n",
        "  X_test_pre=X_test[i,:,:].reshape(1,X_test.shape[1],X_test.shape[2]) # this was reshpaed becasuse the np.concat need the same shapes, and X_test[i,:,:] is only 2-D\n",
        "  y=model.predict(X_test_pre)\n",
        "  prediction=np.concatenate((prediction,y),axis=0)\n",
        "\n",
        "  '''\n",
        "  history=np.concatenate((history,X_test_pre),axis=0)\n",
        "  y=forecast(model,history)  #the first forecast is the last \n",
        "'''\n",
        "\n",
        "'''\n",
        "#testing\n",
        "print(prediction[0])\n",
        "print(prediction[1])\n",
        "'''\n",
        "prediction=np.delete(prediction,0,axis=0)  # remove the first row that has zeros\n",
        "print(prediction.shape)\n",
        "'''\n",
        "#testing\n",
        "print(prediction[0])\n",
        "print(history.shape)\n",
        "print(prediction.shape)\n",
        "'''\n",
        "'''\n",
        "print(y_pre)\n",
        "print(X_train.shape)\n",
        "print(y_pre.shape)\n",
        "'''"
      ],
      "execution_count": null,
      "outputs": [
        {
          "output_type": "stream",
          "text": [
            "(309, 7)\n"
          ],
          "name": "stdout"
        },
        {
          "output_type": "execute_result",
          "data": {
            "application/vnd.google.colaboratory.intrinsic+json": {
              "type": "string"
            },
            "text/plain": [
              "'\\nprint(y_pre)\\nprint(X_train.shape)\\nprint(y_pre.shape)\\n'"
            ]
          },
          "metadata": {
            "tags": []
          },
          "execution_count": 27
        }
      ]
    },
    {
      "cell_type": "code",
      "metadata": {
        "id": "46sYwm7LA2Zf",
        "colab": {
          "base_uri": "https://localhost:8080/"
        },
        "outputId": "3c7c9527-dd8a-4711-c5a5-f5b515265b26"
      },
      "source": [
        "from sklearn.metrics import mean_squared_error\n",
        "print(type(prediction))\n",
        "print(prediction.shape)\n",
        "print(y_test.shape)\n",
        "score=[]\n",
        "for i in range(y_test.shape[0]):\n",
        " mse=mean_squared_error(y_test[i,:],prediction[i,:])\n",
        " score.append(mse)\n",
        "\n",
        "score_mean=np.array(score).mean()\n",
        "print(score_mean)"
      ],
      "execution_count": null,
      "outputs": [
        {
          "output_type": "stream",
          "text": [
            "<class 'numpy.ndarray'>\n",
            "(309, 7)\n",
            "(309, 7)\n",
            "225633.58762213757\n"
          ],
          "name": "stdout"
        }
      ]
    },
    {
      "cell_type": "code",
      "metadata": {
        "id": "T7jkWPPX-WVH",
        "colab": {
          "base_uri": "https://localhost:8080/"
        },
        "outputId": "b99da4b7-5878-48e8-c129-47e97c7ab9b5"
      },
      "source": [
        "from sklearn.metrics import mean_squared_error\n",
        "print(type(prediction))\n",
        "print(prediction.shape)\n",
        "print(y_test.shape)\n",
        "score=[]\n",
        "for i in range(y_test.shape[1]):\n",
        " mse=mean_squared_error(y_test[:,i],prediction[:,i])\n",
        " rmse = np.sqrt(mse)\n",
        " score.append(rmse)\n",
        "\n",
        "score_mean=np.array(score).mean()\n",
        "print(score_mean)"
      ],
      "execution_count": null,
      "outputs": [
        {
          "output_type": "stream",
          "text": [
            "<class 'numpy.ndarray'>\n",
            "(309, 7)\n",
            "(309, 7)\n",
            "474.96993640808614\n"
          ],
          "name": "stdout"
        }
      ]
    },
    {
      "cell_type": "code",
      "metadata": {
        "id": "NF3eYnmQ-d_D",
        "colab": {
          "base_uri": "https://localhost:8080/"
        },
        "outputId": "53ce048d-5d18-4e87-d80c-584e0af50c33"
      },
      "source": [
        "from sklearn.metrics import mean_squared_error\n",
        "print(type(prediction))\n",
        "print(prediction.shape)\n",
        "print(y_test.shape)\n",
        "\n",
        "'''\n",
        "for i in range(y_test.shape[0]):\n",
        " mse=mean_squared_error(y_test,prediction)\n",
        " score.append(mse)\n",
        "\n",
        "score_mean=np.array(score).mean()\n",
        "'''\n",
        "score=mean_squared_error(y_test,prediction)\n",
        "r_score=np.sqrt(score)\n",
        "mean_score=r_score.mean()\n",
        "print(mean_score)"
      ],
      "execution_count": null,
      "outputs": [
        {
          "output_type": "stream",
          "text": [
            "<class 'numpy.ndarray'>\n",
            "(309, 7)\n",
            "(309, 7)\n",
            "475.00903951623656\n"
          ],
          "name": "stdout"
        }
      ]
    },
    {
      "cell_type": "code",
      "metadata": {
        "id": "p3I6As9Q35tT",
        "colab": {
          "base_uri": "https://localhost:8080/"
        },
        "outputId": "40317bb2-18b4-4e5e-a514-7c420893e364"
      },
      "source": [
        "#print(history.shape)\n",
        "print(prediction.shape)\n"
      ],
      "execution_count": null,
      "outputs": [
        {
          "output_type": "stream",
          "text": [
            "(309, 7)\n"
          ],
          "name": "stdout"
        }
      ]
    }
  ]
}